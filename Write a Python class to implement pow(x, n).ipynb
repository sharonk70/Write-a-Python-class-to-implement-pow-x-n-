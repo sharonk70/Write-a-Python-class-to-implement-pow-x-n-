{
 "cells": [
  {
   "cell_type": "code",
   "execution_count": 4,
   "id": "14c4e187",
   "metadata": {},
   "outputs": [],
   "source": [
    "class Pow:\n",
    "\n",
    "    def Pow_(x,n):\n",
    "\n",
    "        return pow(x,n)\n"
   ]
  },
  {
   "cell_type": "code",
   "execution_count": 6,
   "id": "84796d07",
   "metadata": {},
   "outputs": [
    {
     "name": "stdout",
     "output_type": "stream",
     "text": [
      "100\n"
     ]
    }
   ],
   "source": [
    "print(Pow.Pow_(10,2))"
   ]
  },
  {
   "cell_type": "code",
   "execution_count": null,
   "id": "a3396ce5",
   "metadata": {},
   "outputs": [],
   "source": []
  },
  {
   "cell_type": "code",
   "execution_count": null,
   "id": "ea77adda",
   "metadata": {},
   "outputs": [],
   "source": []
  }
 ],
 "metadata": {
  "kernelspec": {
   "display_name": "Python 3",
   "language": "python",
   "name": "python3"
  }
 },
 "nbformat": 4,
 "nbformat_minor": 5
}
